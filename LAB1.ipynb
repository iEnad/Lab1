{
 "cells": [
  {
   "cell_type": "code",
   "execution_count": 5,
   "source": [
    "import platform\r\n",
    "print(platform.python_version())"
   ],
   "outputs": [
    {
     "output_type": "stream",
     "name": "stdout",
     "text": [
      "3.9.7\n"
     ]
    }
   ],
   "metadata": {}
  },
  {
   "cell_type": "code",
   "execution_count": 3,
   "source": [
    "import numpy\r\n",
    "numpy.__version__"
   ],
   "outputs": [
    {
     "output_type": "execute_result",
     "data": {
      "text/plain": [
       "'1.21.2'"
      ]
     },
     "metadata": {},
     "execution_count": 3
    }
   ],
   "metadata": {}
  },
  {
   "cell_type": "code",
   "execution_count": 6,
   "source": [
    "import pandas\r\n",
    "pandas.__version__"
   ],
   "outputs": [
    {
     "output_type": "execute_result",
     "data": {
      "text/plain": [
       "'1.3.3'"
      ]
     },
     "metadata": {},
     "execution_count": 6
    }
   ],
   "metadata": {}
  },
  {
   "cell_type": "code",
   "execution_count": 1,
   "source": [
    "import gensim as gm\r\n",
    "gm.__version__"
   ],
   "outputs": [
    {
     "output_type": "execute_result",
     "data": {
      "text/plain": [
       "'4.1.0'"
      ]
     },
     "metadata": {},
     "execution_count": 1
    }
   ],
   "metadata": {}
  },
  {
   "cell_type": "code",
   "execution_count": 2,
   "source": [
    "from gensim import corpora \r\n",
    "from pprint import pprint\r\n",
    "text = [\"\"\"In computer science, artificial\r\n",
    "intelligence (AI), sometimes called machine\r\n",
    "intelligence, is intelligence demonstrated by\r\n",
    "machines, in contrast to the natural intelligence\r\n",
    "displayed by humans and animals. Computer science\r\n",
    "defines AI research as the study of intelligent\r\n",
    "agents: any device that perceives its environment and\r\n",
    "takes actions that maximize its chance of successfully\r\n",
    "achieving its goals.\"\"\"]\r\n",
    "tokens = [[token for token in sentence.split()] for sentence in text]\r\n",
    "gensim_dictionary = corpora.Dictionary()\r\n",
    "gensim_corpus = [gensim_dictionary.doc2bow(token,allow_update=True) for token in tokens]\r\n",
    "print(gensim_corpus)"
   ],
   "outputs": [
    {
     "output_type": "stream",
     "name": "stdout",
     "text": [
      "[[(0, 1), (1, 1), (2, 1), (3, 1), (4, 1), (5, 1), (6, 1), (7, 2), (8, 1), (9, 1), (10, 1), (11, 1), (12, 2), (13, 1), (14, 1), (15, 1), (16, 1), (17, 1), (18, 1), (19, 1), (20, 1), (21, 1), (22, 1), (23, 1), (24, 1), (25, 3), (26, 1), (27, 1), (28, 1), (29, 3), (30, 1), (31, 1), (32, 1), (33, 1), (34, 2), (35, 1), (36, 1), (37, 1), (38, 1), (39, 1), (40, 1), (41, 1), (42, 1), (43, 2), (44, 2), (45, 1)]]\n"
     ]
    }
   ],
   "metadata": {}
  },
  {
   "cell_type": "code",
   "execution_count": 3,
   "source": [
    "word_frequencies = [[(gensim_dictionary[id], \r\n",
    "frequence) for id, frequence in couple] for couple in \r\n",
    "gensim_corpus] \r\n",
    "print(word_frequencies)"
   ],
   "outputs": [
    {
     "output_type": "stream",
     "name": "stdout",
     "text": [
      "[[('(AI),', 1), ('AI', 1), ('Computer', 1), ('In', 1), ('achieving', 1), ('actions', 1), ('agents:', 1), ('and', 2), ('animals.', 1), ('any', 1), ('artificial', 1), ('as', 1), ('by', 2), ('called', 1), ('chance', 1), ('computer', 1), ('contrast', 1), ('defines', 1), ('demonstrated', 1), ('device', 1), ('displayed', 1), ('environment', 1), ('goals.', 1), ('humans', 1), ('in', 1), ('intelligence', 3), ('intelligence,', 1), ('intelligent', 1), ('is', 1), ('its', 3), ('machine', 1), ('machines,', 1), ('maximize', 1), ('natural', 1), ('of', 2), ('perceives', 1), ('research', 1), ('science', 1), ('science,', 1), ('sometimes', 1), ('study', 1), ('successfully', 1), ('takes', 1), ('that', 2), ('the', 2), ('to', 1)]]\n"
     ]
    }
   ],
   "metadata": {}
  },
  {
   "cell_type": "code",
   "execution_count": 14,
   "source": [
    "import gensim\r\n",
    "import pprint\r\n",
    "from gensim import corpora\r\n",
    "from gensim.utils import simple_preprocess\r\n",
    "doc_tokenized = [\r\n",
    "   simple_preprocess(line, deacc =True) for line in open(\"doc.txt\", encoding=\"utf-8\")\r\n",
    "]\r\n",
    "dictionary = corpora.Dictionary()\r\n",
    "BoW_corpus = [dictionary.doc2bow(doc, allow_update=True) for doc in doc_tokenized]\r\n",
    "print(BoW_corpus)"
   ],
   "outputs": [
    {
     "output_type": "stream",
     "name": "stdout",
     "text": [
      "[[(0, 1), (1, 1)], [(2, 1), (3, 1), (4, 1)], [(4, 1), (5, 1), (6, 1)], [(4, 1), (7, 1), (8, 1), (9, 1), (10, 1)], [(4, 1), (8, 1), (9, 1), (10, 1), (11, 1), (12, 1)], [(13, 1)]]\n"
     ]
    }
   ],
   "metadata": {}
  }
 ],
 "metadata": {
  "orig_nbformat": 4,
  "language_info": {
   "name": "python",
   "version": "3.9.7",
   "mimetype": "text/x-python",
   "codemirror_mode": {
    "name": "ipython",
    "version": 3
   },
   "pygments_lexer": "ipython3",
   "nbconvert_exporter": "python",
   "file_extension": ".py"
  },
  "kernelspec": {
   "name": "python3",
   "display_name": "Python 3.9.7 64-bit (windows store)"
  },
  "interpreter": {
   "hash": "6cd374a1488fce0bddf9e493bc25f253a3d01f00058c5828949f49e7175eb6ba"
  }
 },
 "nbformat": 4,
 "nbformat_minor": 2
}